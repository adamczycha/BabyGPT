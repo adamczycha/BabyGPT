{
 "cells": [
  {
   "cell_type": "code",
   "execution_count": 36,
   "metadata": {},
   "outputs": [],
   "source": [
    "import requests\n",
    "import os\n",
    "from tqdm import tqdm\n",
    "import pandas as pd\n",
    "import numpy as np\n",
    "import json\n",
    "import tiktoken\n",
    "import torch\n",
    "from transformers import AutoModelForCausalLM\n",
    "from  torch.nn import functional as F"
   ]
  },
  {
   "cell_type": "code",
   "execution_count": 2,
   "metadata": {},
   "outputs": [],
   "source": [
    "def iterate_examples():\n",
    "    with open('benchmarks/hellaswag/hellaswag_val.jsonl', 'rb') as file:\n",
    "        for line in file:\n",
    "            example = json.loads(line)\n",
    "            yield example"
   ]
  },
  {
   "cell_type": "code",
   "execution_count": 3,
   "metadata": {},
   "outputs": [],
   "source": [
    "examples = iterate_examples()"
   ]
  },
  {
   "cell_type": "code",
   "execution_count": 49,
   "metadata": {},
   "outputs": [
    {
     "ename": "TypeError",
     "evalue": "'generator' object is not subscriptable",
     "output_type": "error",
     "traceback": [
      "\u001b[0;31m---------------------------------------------------------------------------\u001b[0m",
      "\u001b[0;31mTypeError\u001b[0m                                 Traceback (most recent call last)",
      "Cell \u001b[0;32mIn[49], line 1\u001b[0m\n\u001b[0;32m----> 1\u001b[0m \u001b[38;5;28;01mfor\u001b[39;00m example \u001b[38;5;129;01min\u001b[39;00m \u001b[43mexamples\u001b[49m\u001b[43m[\u001b[49m\u001b[43m:\u001b[49m\u001b[43m:\u001b[49m\u001b[38;5;241;43m2\u001b[39;49m\u001b[43m]\u001b[49m:\n\u001b[1;32m      2\u001b[0m     \u001b[38;5;28mprint\u001b[39m(example)\n\u001b[1;32m      3\u001b[0m     \u001b[38;5;28;01mbreak\u001b[39;00m\n",
      "\u001b[0;31mTypeError\u001b[0m: 'generator' object is not subscriptable"
     ]
    }
   ],
   "source": [
    "for example in examples[::2]:\n",
    "    print(example)\n",
    "    break"
   ]
  },
  {
   "cell_type": "code",
   "execution_count": 4,
   "metadata": {},
   "outputs": [],
   "source": [
    "def prepare_example(example):\n",
    "    ctx = example['ctx']\n",
    "    endings = example['endings']\n",
    "    label = example['label']\n",
    "    \n",
    "    enc = tiktoken.get_encoding('gpt2')\n",
    "    ctx_tokens = enc.encode(ctx)\n",
    "    tok_rows = []\n",
    "    mask_rows = []\n",
    "    for end in endings:\n",
    "        end_tokens = enc.encode(' '+ end)\n",
    "        tok_rows.append(ctx_tokens + end_tokens)\n",
    "        mask_rows.append([0] * len(ctx_tokens) + [1] * len(end_tokens))\n",
    "\n",
    "    tokens = torch.zeros([4,1024], dtype=torch.long)\n",
    "    mask = torch.zeros([4,1024], dtype=torch.long)\n",
    "    for i,(tok_row, mask_row) in enumerate(zip(tok_rows, mask_rows)):\n",
    "        tokens[i,:len(tok_row)] = torch.tensor([tok_row]) \n",
    "        mask[i,:len(mask_row)] = torch.tensor([mask_row])\n",
    "    \n",
    "    \n",
    "    return tokens, mask, label"
   ]
  },
  {
   "cell_type": "code",
   "execution_count": 5,
   "metadata": {},
   "outputs": [
    {
     "data": {
      "application/vnd.jupyter.widget-view+json": {
       "model_id": "758f4d094d8840988a58aaf24311fafc",
       "version_major": 2,
       "version_minor": 0
      },
      "text/plain": [
       "config.json:   0%|          | 0.00/665 [00:00<?, ?B/s]"
      ]
     },
     "metadata": {},
     "output_type": "display_data"
    },
    {
     "data": {
      "application/vnd.jupyter.widget-view+json": {
       "model_id": "237817d25888447ca3293c0cee6d8a8a",
       "version_major": 2,
       "version_minor": 0
      },
      "text/plain": [
       "model.safetensors:   0%|          | 0.00/548M [00:00<?, ?B/s]"
      ]
     },
     "metadata": {},
     "output_type": "display_data"
    },
    {
     "data": {
      "application/vnd.jupyter.widget-view+json": {
       "model_id": "614778d6d4d3464aac956aa6e7fc69ae",
       "version_major": 2,
       "version_minor": 0
      },
      "text/plain": [
       "generation_config.json:   0%|          | 0.00/124 [00:00<?, ?B/s]"
      ]
     },
     "metadata": {},
     "output_type": "display_data"
    }
   ],
   "source": [
    "device = 'cuda' if torch.cuda.is_available() else 'cpu'\n",
    "model = AutoModelForCausalLM.from_pretrained(\"openai-community/gpt2\")\n",
    "model.to(device)\n",
    "hella_val = iterate_examples()\n",
    "example = next(examples)"
   ]
  },
  {
   "cell_type": "code",
   "execution_count": 15,
   "metadata": {},
   "outputs": [],
   "source": [
    "tokens, mask, lable = prepare_example(example)\n",
    "tokens, mask = tokens.to(device), mask.to(device)\n",
    "logits = model(tokens).logits"
   ]
  },
  {
   "cell_type": "code",
   "execution_count": 29,
   "metadata": {},
   "outputs": [],
   "source": [
    "shift_logits = (logits[:, :-1, :]).contiguous()\n",
    "shift_tokens = (tokens[:, 1:]).contiguous()"
   ]
  },
  {
   "cell_type": "code",
   "execution_count": 31,
   "metadata": {},
   "outputs": [],
   "source": [
    "flat_shift_logits = shift_logits.view(-1, shift_logits.size(-1))\n",
    "flat_shift_tokens = shift_tokens.view(-1)"
   ]
  },
  {
   "cell_type": "code",
   "execution_count": 38,
   "metadata": {},
   "outputs": [],
   "source": [
    "shift_loss = F.cross_entropy(flat_shift_logits, flat_shift_tokens, reduction='none')"
   ]
  },
  {
   "cell_type": "code",
   "execution_count": 40,
   "metadata": {},
   "outputs": [],
   "source": [
    "shift_loss = shift_loss.view(tokens.size(0), -1)"
   ]
  },
  {
   "cell_type": "code",
   "execution_count": 41,
   "metadata": {},
   "outputs": [
    {
     "data": {
      "text/plain": [
       "tensor([[7.3022e+00, 3.3173e+00, 6.1764e+00,  ..., 4.3073e-03, 4.3036e-03,\n",
       "         4.2672e-03],\n",
       "        [7.3022e+00, 3.3173e+00, 6.1764e+00,  ..., 4.5666e-03, 4.5673e-03,\n",
       "         4.5271e-03],\n",
       "        [7.3022e+00, 3.3173e+00, 6.1764e+00,  ..., 4.4836e-03, 4.4847e-03,\n",
       "         4.4465e-03],\n",
       "        [7.3022e+00, 3.3173e+00, 6.1764e+00,  ..., 4.5019e-03, 4.5048e-03,\n",
       "         4.4662e-03]], device='cuda:0', grad_fn=<ViewBackward0>)"
      ]
     },
     "execution_count": 41,
     "metadata": {},
     "output_type": "execute_result"
    }
   ],
   "source": [
    "shift_loss"
   ]
  },
  {
   "cell_type": "code",
   "execution_count": 42,
   "metadata": {},
   "outputs": [],
   "source": [
    "shift_mask = (mask[:, 1:]).contiguous()"
   ]
  },
  {
   "cell_type": "code",
   "execution_count": 44,
   "metadata": {},
   "outputs": [],
   "source": [
    "masked_shift_losses = shift_loss * shift_mask\n",
    "sum_loss = masked_shift_losses.sum(dim=1)\n",
    "avg_loss = sum_loss / shift_mask.sum(dim=1)\n",
    "pred = sum_loss.argmin().item()\n",
    "pred_norm = avg_loss.argmin().item()"
   ]
  },
  {
   "cell_type": "code",
   "execution_count": 48,
   "metadata": {},
   "outputs": [
    {
     "data": {
      "text/plain": [
       "2"
      ]
     },
     "execution_count": 48,
     "metadata": {},
     "output_type": "execute_result"
    }
   ],
   "source": [
    "pred"
   ]
  },
  {
   "cell_type": "code",
   "execution_count": null,
   "metadata": {},
   "outputs": [],
   "source": []
  }
 ],
 "metadata": {
  "kernelspec": {
   "display_name": "Python 3 (ipykernel)",
   "language": "python",
   "name": "python3"
  },
  "language_info": {
   "codemirror_mode": {
    "name": "ipython",
    "version": 3
   },
   "file_extension": ".py",
   "mimetype": "text/x-python",
   "name": "python",
   "nbconvert_exporter": "python",
   "pygments_lexer": "ipython3",
   "version": "3.11.10"
  }
 },
 "nbformat": 4,
 "nbformat_minor": 2
}
